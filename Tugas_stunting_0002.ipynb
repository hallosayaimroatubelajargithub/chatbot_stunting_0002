{
  "nbformat": 4,
  "nbformat_minor": 0,
  "metadata": {
    "colab": {
      "provenance": [],
      "authorship_tag": "ABX9TyNNz3Koy/ZZJXoe2i5WBTbu",
      "include_colab_link": true
    },
    "kernelspec": {
      "name": "python3",
      "display_name": "Python 3"
    },
    "language_info": {
      "name": "python"
    }
  },
  "cells": [
    {
      "cell_type": "markdown",
      "metadata": {
        "id": "view-in-github",
        "colab_type": "text"
      },
      "source": [
        "<a href=\"https://colab.research.google.com/github/hallosayaimroatubelajargithub/chatbot_stunting_0002/blob/main/Tugas_stunting_0002.ipynb\" target=\"_parent\"><img src=\"https://colab.research.google.com/assets/colab-badge.svg\" alt=\"Open In Colab\"/></a>"
      ]
    },
    {
      "cell_type": "markdown",
      "source": [
        "\n",
        "\n",
        "> **Nama : Imroatu Solicah**\n",
        "\n",
        "> **NIM  : 20.01.53.0002**\n",
        "\n",
        "\n",
        "> **TEXT MINNING**\n",
        "\n",
        "\n",
        "\n",
        "\n",
        "\n"
      ],
      "metadata": {
        "id": "v-aRPdnGK8fO"
      }
    },
    {
      "cell_type": "code",
      "source": [
        "import re\n",
        "import random\n",
        "\n",
        "from nltk.chat.util import Chat, reflections\n",
        "\n",
        "class FociChatbot(Chat):\n",
        "    def __init__(self):\n",
        "        super().__init__([], reflections)\n",
        "        p = self._pairs\n",
        "\n",
        "    def add(self, input, output):\n",
        "        if isinstance(output, str):\n",
        "            o = [output]\n",
        "        else:\n",
        "            o = output\n",
        "        self._pairs.append((re.compile(input, re.IGNORECASE), o))\n",
        "\n",
        "\n",
        "def add_response(input, output):\n",
        "    f.add(input, output)\n",
        "\n",
        "def converse():\n",
        "    f.converse()\n",
        "\n",
        "def respond(input):\n",
        "    print(f.respond(input))\n",
        "\n",
        "def reset():\n",
        "    global f\n",
        "    f = FociChatbot()\n",
        "\n",
        "\n",
        "f = FociChatbot()"
      ],
      "metadata": {
        "id": "7PksDGtsLOWe"
      },
      "execution_count": 1,
      "outputs": []
    },
    {
      "cell_type": "markdown",
      "source": [
        "\n",
        "\n",
        "*   Kode di atas telah menentukan beberapa fungsi untuk kita gunakan yang memungkinkan kita membuat dan menguji bot kita.\n",
        "*   `add_response()` : dengan fungsi ini, kita dapat menambahkan pola teks, dan respons yang sesuai, ke chatbot, satu per satu.\n",
        "*   `converse()`: kita dapat menggunakan fungsi ini untuk menguji chatbot. Kami dapat berulang kali memasukkan teks, dan menerima balasan chatbot. Untuk mengakhiri percakapan, kita cukup mengetikkan kata khusus `quit`.\n",
        "*   `respond()`: gunakan fungsi ini untuk menguji respons hanya pada satu input teks, daripada percakapan lengkap.\n",
        "*   `reset()`: use this function to reset the bot, deleting all the responses that have been added so far, and starting again.\n",
        "*   Disini kita akan bagi menjadi 2 `Sesi`. Sesi 1 adalah awalan, dan sesi 2 mulai masuk ke dalam question-question.\n",
        "\n",
        "\n",
        "\n",
        "\n",
        "\n",
        "\n",
        "\n",
        "\n"
      ],
      "metadata": {
        "id": "YV2mf0jVMqxP"
      }
    },
    {
      "cell_type": "code",
      "source": [
        "from google.colab import files\n",
        "from IPython import display"
      ],
      "metadata": {
        "id": "BfOK7kTvSqj4"
      },
      "execution_count": 2,
      "outputs": []
    },
    {
      "cell_type": "code",
      "source": [
        "uploaded=files.upload()"
      ],
      "metadata": {
        "colab": {
          "base_uri": "https://localhost:8080/",
          "height": 73
        },
        "id": "0Olpe9eWUeHX",
        "outputId": "024e168c-2b52-432f-82c7-02984f66ba9f"
      },
      "execution_count": 3,
      "outputs": [
        {
          "output_type": "display_data",
          "data": {
            "text/plain": [
              "<IPython.core.display.HTML object>"
            ],
            "text/html": [
              "\n",
              "     <input type=\"file\" id=\"files-3108cc04-a177-4fd8-9e44-31bfda4ca075\" name=\"files[]\" multiple disabled\n",
              "        style=\"border:none\" />\n",
              "     <output id=\"result-3108cc04-a177-4fd8-9e44-31bfda4ca075\">\n",
              "      Upload widget is only available when the cell has been executed in the\n",
              "      current browser session. Please rerun this cell to enable.\n",
              "      </output>\n",
              "      <script>// Copyright 2017 Google LLC\n",
              "//\n",
              "// Licensed under the Apache License, Version 2.0 (the \"License\");\n",
              "// you may not use this file except in compliance with the License.\n",
              "// You may obtain a copy of the License at\n",
              "//\n",
              "//      http://www.apache.org/licenses/LICENSE-2.0\n",
              "//\n",
              "// Unless required by applicable law or agreed to in writing, software\n",
              "// distributed under the License is distributed on an \"AS IS\" BASIS,\n",
              "// WITHOUT WARRANTIES OR CONDITIONS OF ANY KIND, either express or implied.\n",
              "// See the License for the specific language governing permissions and\n",
              "// limitations under the License.\n",
              "\n",
              "/**\n",
              " * @fileoverview Helpers for google.colab Python module.\n",
              " */\n",
              "(function(scope) {\n",
              "function span(text, styleAttributes = {}) {\n",
              "  const element = document.createElement('span');\n",
              "  element.textContent = text;\n",
              "  for (const key of Object.keys(styleAttributes)) {\n",
              "    element.style[key] = styleAttributes[key];\n",
              "  }\n",
              "  return element;\n",
              "}\n",
              "\n",
              "// Max number of bytes which will be uploaded at a time.\n",
              "const MAX_PAYLOAD_SIZE = 100 * 1024;\n",
              "\n",
              "function _uploadFiles(inputId, outputId) {\n",
              "  const steps = uploadFilesStep(inputId, outputId);\n",
              "  const outputElement = document.getElementById(outputId);\n",
              "  // Cache steps on the outputElement to make it available for the next call\n",
              "  // to uploadFilesContinue from Python.\n",
              "  outputElement.steps = steps;\n",
              "\n",
              "  return _uploadFilesContinue(outputId);\n",
              "}\n",
              "\n",
              "// This is roughly an async generator (not supported in the browser yet),\n",
              "// where there are multiple asynchronous steps and the Python side is going\n",
              "// to poll for completion of each step.\n",
              "// This uses a Promise to block the python side on completion of each step,\n",
              "// then passes the result of the previous step as the input to the next step.\n",
              "function _uploadFilesContinue(outputId) {\n",
              "  const outputElement = document.getElementById(outputId);\n",
              "  const steps = outputElement.steps;\n",
              "\n",
              "  const next = steps.next(outputElement.lastPromiseValue);\n",
              "  return Promise.resolve(next.value.promise).then((value) => {\n",
              "    // Cache the last promise value to make it available to the next\n",
              "    // step of the generator.\n",
              "    outputElement.lastPromiseValue = value;\n",
              "    return next.value.response;\n",
              "  });\n",
              "}\n",
              "\n",
              "/**\n",
              " * Generator function which is called between each async step of the upload\n",
              " * process.\n",
              " * @param {string} inputId Element ID of the input file picker element.\n",
              " * @param {string} outputId Element ID of the output display.\n",
              " * @return {!Iterable<!Object>} Iterable of next steps.\n",
              " */\n",
              "function* uploadFilesStep(inputId, outputId) {\n",
              "  const inputElement = document.getElementById(inputId);\n",
              "  inputElement.disabled = false;\n",
              "\n",
              "  const outputElement = document.getElementById(outputId);\n",
              "  outputElement.innerHTML = '';\n",
              "\n",
              "  const pickedPromise = new Promise((resolve) => {\n",
              "    inputElement.addEventListener('change', (e) => {\n",
              "      resolve(e.target.files);\n",
              "    });\n",
              "  });\n",
              "\n",
              "  const cancel = document.createElement('button');\n",
              "  inputElement.parentElement.appendChild(cancel);\n",
              "  cancel.textContent = 'Cancel upload';\n",
              "  const cancelPromise = new Promise((resolve) => {\n",
              "    cancel.onclick = () => {\n",
              "      resolve(null);\n",
              "    };\n",
              "  });\n",
              "\n",
              "  // Wait for the user to pick the files.\n",
              "  const files = yield {\n",
              "    promise: Promise.race([pickedPromise, cancelPromise]),\n",
              "    response: {\n",
              "      action: 'starting',\n",
              "    }\n",
              "  };\n",
              "\n",
              "  cancel.remove();\n",
              "\n",
              "  // Disable the input element since further picks are not allowed.\n",
              "  inputElement.disabled = true;\n",
              "\n",
              "  if (!files) {\n",
              "    return {\n",
              "      response: {\n",
              "        action: 'complete',\n",
              "      }\n",
              "    };\n",
              "  }\n",
              "\n",
              "  for (const file of files) {\n",
              "    const li = document.createElement('li');\n",
              "    li.append(span(file.name, {fontWeight: 'bold'}));\n",
              "    li.append(span(\n",
              "        `(${file.type || 'n/a'}) - ${file.size} bytes, ` +\n",
              "        `last modified: ${\n",
              "            file.lastModifiedDate ? file.lastModifiedDate.toLocaleDateString() :\n",
              "                                    'n/a'} - `));\n",
              "    const percent = span('0% done');\n",
              "    li.appendChild(percent);\n",
              "\n",
              "    outputElement.appendChild(li);\n",
              "\n",
              "    const fileDataPromise = new Promise((resolve) => {\n",
              "      const reader = new FileReader();\n",
              "      reader.onload = (e) => {\n",
              "        resolve(e.target.result);\n",
              "      };\n",
              "      reader.readAsArrayBuffer(file);\n",
              "    });\n",
              "    // Wait for the data to be ready.\n",
              "    let fileData = yield {\n",
              "      promise: fileDataPromise,\n",
              "      response: {\n",
              "        action: 'continue',\n",
              "      }\n",
              "    };\n",
              "\n",
              "    // Use a chunked sending to avoid message size limits. See b/62115660.\n",
              "    let position = 0;\n",
              "    do {\n",
              "      const length = Math.min(fileData.byteLength - position, MAX_PAYLOAD_SIZE);\n",
              "      const chunk = new Uint8Array(fileData, position, length);\n",
              "      position += length;\n",
              "\n",
              "      const base64 = btoa(String.fromCharCode.apply(null, chunk));\n",
              "      yield {\n",
              "        response: {\n",
              "          action: 'append',\n",
              "          file: file.name,\n",
              "          data: base64,\n",
              "        },\n",
              "      };\n",
              "\n",
              "      let percentDone = fileData.byteLength === 0 ?\n",
              "          100 :\n",
              "          Math.round((position / fileData.byteLength) * 100);\n",
              "      percent.textContent = `${percentDone}% done`;\n",
              "\n",
              "    } while (position < fileData.byteLength);\n",
              "  }\n",
              "\n",
              "  // All done.\n",
              "  yield {\n",
              "    response: {\n",
              "      action: 'complete',\n",
              "    }\n",
              "  };\n",
              "}\n",
              "\n",
              "scope.google = scope.google || {};\n",
              "scope.google.colab = scope.google.colab || {};\n",
              "scope.google.colab._files = {\n",
              "  _uploadFiles,\n",
              "  _uploadFilesContinue,\n",
              "};\n",
              "})(self);\n",
              "</script> "
            ]
          },
          "metadata": {}
        },
        {
          "output_type": "stream",
          "name": "stdout",
          "text": [
            "Saving stunting.png to stunting (1).png\n"
          ]
        }
      ]
    },
    {
      "cell_type": "code",
      "source": [
        "display.Image(\"stunting.png\",\n",
        "              width=500)"
      ],
      "metadata": {
        "colab": {
          "base_uri": "https://localhost:8080/",
          "height": 517
        },
        "id": "TiS3gXeJUl0_",
        "outputId": "424b3c61-4faa-42e3-9e8d-176c3778b2d3"
      },
      "execution_count": 4,
      "outputs": [
        {
          "output_type": "execute_result",
          "data": {
            "image/png": "[encoded data removed]",
            "text/plain": [
              "<IPython.core.display.Image object>"
            ]
          },
          "metadata": {
            "image/png": {
              "width": 500
            }
          },
          "execution_count": 4
        }
      ]
    },
    {
      "cell_type": "code",
      "execution_count": 5,
      "metadata": {
        "id": "w0NRgEDrK0NX"
      },
      "outputs": [],
      "source": [
        "##Sesi 1\n",
        "add_response('Permisi', 'Selamat Datang di Tanya Jawab Seminar PESAT Online: Stunting, Cegah Bukan Diobati!')\n",
        "add_response('Hallo', 'Selamat Datang di Tanya Jawab Seminar PESAT Online: Stunting, Cegah Bukan Diobati!')\n",
        "add_response('Hay', 'Selamat Datang di Tanya Jawab Seminar PESAT Online: Stunting, Cegah Bukan Diobati!')\n",
        "\n",
        "##Sesi 2\n",
        "add_response('Saya mau tanya tentang stunting', 'Baik, Ada yang bisa kami bantu?')\n",
        "add_response('Mau tanya tentang stunting dong', 'Baik, Ada yang bisa kami bantu?')\n",
        "add_response('Mau tanya-tanya ni kak, boleh ga?', 'Baik, Ada yang bisa kami bantu?')\n",
        "add_response('Mau tanya lagi boleh kak?', 'Baik, Ada yang bisa kami bantu?')"
      ]
    },
    {
      "cell_type": "code",
      "source": [
        "converse()"
      ],
      "metadata": {
        "colab": {
          "base_uri": "https://localhost:8080/"
        },
        "id": "hPpigI9bLz6J",
        "outputId": "ea5d894c-b59f-45f0-99a3-d91e2d4c667c"
      },
      "execution_count": 8,
      "outputs": [
        {
          "output_type": "stream",
          "name": "stdout",
          "text": [
            ">Permisi\n",
            "Selamat Datang di Tanya Jawab Seminar PESAT Online: Stunting, Cegah Bukan Diobati!\n",
            ">Saya mau tanya tentang stunting\n",
            "Baik, Ada yang bisa kami bantu?\n",
            ">quit\n",
            "None\n"
          ]
        }
      ]
    },
    {
      "cell_type": "code",
      "source": [
        "##Pertanyaan 1\n",
        "add_response('Seperti apa anjuran nutrisi anak di atas 2 tahun supaya tidak stunting dan tidak anemia defisiensi besi?', 'Nutrisi untuk anak di atas 2 tahun mengikuti aturan “my plate” terdiri dari ¼ sayuran, ¼ buah, ¼ karbohidrat (grain) dan ¼ protein. Pilih protein hewani dan berbagai jenis sayuran berwarna-warni.')\n",
        "add_response('Apa si anjuran nutrisi anak di atas 2 tahun supaya tidak stunting dan tidak anemia defisiensi besi?', 'Nutrisi untuk anak di atas 2 tahun mengikuti aturan “my plate” terdiri dari ¼ sayuran, ¼ buah, ¼ karbohidrat (grain) dan ¼ protein. Pilih protein hewani dan berbagai jenis sayuran berwarna-warni.')\n",
        "\n",
        "##Pertanyaan 2\n",
        "add_response('Bagaimana menilai pertumbuhan dan perkembangan bayi prematur?', 'Pertumbuhan bayi prematur dipantau menggunakan kurva Fenton sampai usia koreksi 10 minggu, kemudian pindah ke kurva WHO. Sedangkan perkembangan (verbal, motoric halus dan kasar) menggunakan usia koreksi sampai usia 2 tahun, lalu dianggap sama dengan anak lain yang seusianya.')\n",
        "add_response('Bagaimana  pertumbuhan dan perkembangan bayi prematur?', 'Pertumbuhan bayi prematur dipantau menggunakan kurva Fenton sampai usia koreksi 10 minggu, kemudian pindah ke kurva WHO. Sedangkan perkembangan (verbal, motoric halus dan kasar) menggunakan usia koreksi sampai usia 2 tahun, lalu dianggap sama dengan anak lain yang seusianya.')"
      ],
      "metadata": {
        "id": "Jk7uyG-hL9cG"
      },
      "execution_count": 9,
      "outputs": []
    },
    {
      "cell_type": "code",
      "source": [
        "converse()"
      ],
      "metadata": {
        "colab": {
          "base_uri": "https://localhost:8080/"
        },
        "id": "0338roCBMBxQ",
        "outputId": "b856df34-4534-4068-ae81-aadcd7543076"
      },
      "execution_count": 10,
      "outputs": [
        {
          "output_type": "stream",
          "name": "stdout",
          "text": [
            ">Seperti apa anjuran nutrisi anak di atas 2 tahun supaya tidak stunting dan tidak anemia defisiensi besi?\n",
            "Nutrisi untuk anak di atas 2 tahun mengikuti aturan “my plate” terdiri dari ¼ sayuran, ¼ buah, ¼ karbohidrat (grain) dan ¼ protein. Pilih protein hewani dan berbagai jenis sayuran berwarna-warni.\n",
            ">Mau tanya lagi boleh kak?\n",
            "Baik, Ada yang bisa kami bantu?\n",
            ">Bagaimana  pertumbuhan dan perkembangan bayi prematur?\n",
            "Pertumbuhan bayi prematur dipantau menggunakan kurva Fenton sampai usia koreksi 10 minggu, kemudian pindah ke kurva WHO. Sedangkan perkembangan (verbal, motoric halus dan kasar) menggunakan usia koreksi sampai usia 2 tahun, lalu dianggap sama dengan anak lain yang seusianya.\n",
            ">quit\n",
            "None\n"
          ]
        }
      ]
    },
    {
      "cell_type": "code",
      "source": [
        "##Penutup\n",
        "add_response('Terima kasih', 'Terima Kasih atas kunjungannya, semoga membantu😊')\n",
        "add_response('Wah cukup membantu', 'Terima Kasih atas kunjungannya, semoga membantu😊')"
      ],
      "metadata": {
        "id": "uX2N8QrIVpf6"
      },
      "execution_count": 11,
      "outputs": []
    },
    {
      "cell_type": "code",
      "source": [
        "converse()"
      ],
      "metadata": {
        "colab": {
          "base_uri": "https://localhost:8080/"
        },
        "id": "Du0snpByXIyS",
        "outputId": "c6e1249a-3fb3-40ba-ee0f-64c727a48e5e"
      },
      "execution_count": 12,
      "outputs": [
        {
          "output_type": "stream",
          "name": "stdout",
          "text": [
            ">Wah cukup membantu\n",
            "Terima Kasih atas kunjungannya, semoga membantu😊\n",
            ">quit\n",
            "None\n"
          ]
        }
      ]
    }
  ]
}